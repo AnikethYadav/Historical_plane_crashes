{
 "cells": [
  {
   "cell_type": "markdown",
   "metadata": {},
   "source": [
    "We import the required libraries"
   ]
  },
  {
   "cell_type": "code",
   "execution_count": 1,
   "metadata": {},
   "outputs": [],
   "source": [
    "import numpy as np # linear algebra\n",
    "import pandas as pd \n",
    "import matplotlib.pyplot as plt\n",
    "import re\n",
    "%matplotlib inline"
   ]
  },
  {
   "cell_type": "code",
   "execution_count": 2,
   "metadata": {},
   "outputs": [
    {
     "data": {
      "text/html": [
       "<div>\n",
       "<style scoped>\n",
       "    .dataframe tbody tr th:only-of-type {\n",
       "        vertical-align: middle;\n",
       "    }\n",
       "\n",
       "    .dataframe tbody tr th {\n",
       "        vertical-align: top;\n",
       "    }\n",
       "\n",
       "    .dataframe thead th {\n",
       "        text-align: right;\n",
       "    }\n",
       "</style>\n",
       "<table border=\"1\" class=\"dataframe\">\n",
       "  <thead>\n",
       "    <tr style=\"text-align: right;\">\n",
       "      <th></th>\n",
       "      <th>date</th>\n",
       "      <th>time</th>\n",
       "      <th>location</th>\n",
       "      <th>operator</th>\n",
       "      <th>flight_no</th>\n",
       "      <th>route</th>\n",
       "      <th>ac_type</th>\n",
       "      <th>registration</th>\n",
       "      <th>cn_ln</th>\n",
       "      <th>aboard</th>\n",
       "      <th>fatalities</th>\n",
       "      <th>ground</th>\n",
       "      <th>summary</th>\n",
       "    </tr>\n",
       "  </thead>\n",
       "  <tbody>\n",
       "    <tr>\n",
       "      <th>0</th>\n",
       "      <td>September 17, 1908</td>\n",
       "      <td>17:18</td>\n",
       "      <td>Fort Myer, Virginia</td>\n",
       "      <td>Military - U.S. Army</td>\n",
       "      <td>?</td>\n",
       "      <td>Demonstration</td>\n",
       "      <td>Wright Flyer III</td>\n",
       "      <td>?</td>\n",
       "      <td>1</td>\n",
       "      <td>2   (passengers:1  crew:1)</td>\n",
       "      <td>1   (passengers:1  crew:0)</td>\n",
       "      <td>0</td>\n",
       "      <td>During a demonstration flight, a U.S. Army fly...</td>\n",
       "    </tr>\n",
       "    <tr>\n",
       "      <th>1</th>\n",
       "      <td>September 07, 1909</td>\n",
       "      <td>?</td>\n",
       "      <td>Juvisy-sur-Orge, France</td>\n",
       "      <td>?</td>\n",
       "      <td>?</td>\n",
       "      <td>Air show</td>\n",
       "      <td>Wright Byplane</td>\n",
       "      <td>SC1</td>\n",
       "      <td>?</td>\n",
       "      <td>1   (passengers:0  crew:1)</td>\n",
       "      <td>1   (passengers:0  crew:0)</td>\n",
       "      <td>0</td>\n",
       "      <td>Eugene Lefebvre was the first pilot to ever be...</td>\n",
       "    </tr>\n",
       "  </tbody>\n",
       "</table>\n",
       "</div>"
      ],
      "text/plain": [
       "                 date   time                 location              operator  \\\n",
       "0  September 17, 1908  17:18      Fort Myer, Virginia  Military - U.S. Army   \n",
       "1  September 07, 1909      ?  Juvisy-sur-Orge, France                     ?   \n",
       "\n",
       "  flight_no          route           ac_type registration cn_ln  \\\n",
       "0         ?  Demonstration  Wright Flyer III            ?     1   \n",
       "1         ?       Air show    Wright Byplane          SC1     ?   \n",
       "\n",
       "                       aboard                  fatalities ground  \\\n",
       "0  2   (passengers:1  crew:1)  1   (passengers:1  crew:0)      0   \n",
       "1  1   (passengers:0  crew:1)  1   (passengers:0  crew:0)      0   \n",
       "\n",
       "                                             summary  \n",
       "0  During a demonstration flight, a U.S. Army fly...  \n",
       "1  Eugene Lefebvre was the first pilot to ever be...  "
      ]
     },
     "execution_count": 2,
     "metadata": {},
     "output_type": "execute_result"
    }
   ],
   "source": [
    "# Loading the data\n",
    "df= pd.read_csv('planecrashinfo_20181121001952.csv')\n",
    "df.head(2)"
   ]
  },
  {
   "cell_type": "markdown",
   "metadata": {},
   "source": [
    "We see that we have \"?\" instead of NA's, let's remove them first"
   ]
  },
  {
   "cell_type": "code",
   "execution_count": 3,
   "metadata": {},
   "outputs": [
    {
     "data": {
      "text/html": [
       "<div>\n",
       "<style scoped>\n",
       "    .dataframe tbody tr th:only-of-type {\n",
       "        vertical-align: middle;\n",
       "    }\n",
       "\n",
       "    .dataframe tbody tr th {\n",
       "        vertical-align: top;\n",
       "    }\n",
       "\n",
       "    .dataframe thead th {\n",
       "        text-align: right;\n",
       "    }\n",
       "</style>\n",
       "<table border=\"1\" class=\"dataframe\">\n",
       "  <thead>\n",
       "    <tr style=\"text-align: right;\">\n",
       "      <th></th>\n",
       "      <th>date</th>\n",
       "      <th>time</th>\n",
       "      <th>location</th>\n",
       "      <th>operator</th>\n",
       "      <th>flight_no</th>\n",
       "      <th>route</th>\n",
       "      <th>ac_type</th>\n",
       "      <th>registration</th>\n",
       "      <th>cn_ln</th>\n",
       "      <th>aboard</th>\n",
       "      <th>fatalities</th>\n",
       "      <th>ground</th>\n",
       "      <th>summary</th>\n",
       "    </tr>\n",
       "  </thead>\n",
       "  <tbody>\n",
       "    <tr>\n",
       "      <th>0</th>\n",
       "      <td>September 17, 1908</td>\n",
       "      <td>17:18</td>\n",
       "      <td>Fort Myer, Virginia</td>\n",
       "      <td>Military - U.S. Army</td>\n",
       "      <td>NaN</td>\n",
       "      <td>Demonstration</td>\n",
       "      <td>Wright Flyer III</td>\n",
       "      <td>NaN</td>\n",
       "      <td>1</td>\n",
       "      <td>2   (passengers:1  crew:1)</td>\n",
       "      <td>1   (passengers:1  crew:0)</td>\n",
       "      <td>0</td>\n",
       "      <td>During a demonstration flight, a U.S. Army fly...</td>\n",
       "    </tr>\n",
       "    <tr>\n",
       "      <th>1</th>\n",
       "      <td>September 07, 1909</td>\n",
       "      <td>NaN</td>\n",
       "      <td>Juvisy-sur-Orge, France</td>\n",
       "      <td>NaN</td>\n",
       "      <td>NaN</td>\n",
       "      <td>Air show</td>\n",
       "      <td>Wright Byplane</td>\n",
       "      <td>SC1</td>\n",
       "      <td>NaN</td>\n",
       "      <td>1   (passengers:0  crew:1)</td>\n",
       "      <td>1   (passengers:0  crew:0)</td>\n",
       "      <td>0</td>\n",
       "      <td>Eugene Lefebvre was the first pilot to ever be...</td>\n",
       "    </tr>\n",
       "  </tbody>\n",
       "</table>\n",
       "</div>"
      ],
      "text/plain": [
       "                 date   time                 location              operator  \\\n",
       "0  September 17, 1908  17:18      Fort Myer, Virginia  Military - U.S. Army   \n",
       "1  September 07, 1909    NaN  Juvisy-sur-Orge, France                   NaN   \n",
       "\n",
       "  flight_no          route           ac_type registration cn_ln  \\\n",
       "0       NaN  Demonstration  Wright Flyer III          NaN     1   \n",
       "1       NaN       Air show    Wright Byplane          SC1   NaN   \n",
       "\n",
       "                       aboard                  fatalities ground  \\\n",
       "0  2   (passengers:1  crew:1)  1   (passengers:1  crew:0)      0   \n",
       "1  1   (passengers:0  crew:1)  1   (passengers:0  crew:0)      0   \n",
       "\n",
       "                                             summary  \n",
       "0  During a demonstration flight, a U.S. Army fly...  \n",
       "1  Eugene Lefebvre was the first pilot to ever be...  "
      ]
     },
     "execution_count": 3,
     "metadata": {},
     "output_type": "execute_result"
    }
   ],
   "source": [
    "#we have to replace '?' with NaN\n",
    "df.replace(\"?\", np.nan, inplace = True)\n",
    "df.head(2)"
   ]
  },
  {
   "cell_type": "code",
   "execution_count": 4,
   "metadata": {},
   "outputs": [
    {
     "data": {
      "text/plain": [
       "(5783, 13)"
      ]
     },
     "execution_count": 4,
     "metadata": {},
     "output_type": "execute_result"
    }
   ],
   "source": [
    "df.shape"
   ]
  },
  {
   "cell_type": "code",
   "execution_count": 5,
   "metadata": {},
   "outputs": [
    {
     "data": {
      "text/plain": [
       "date            1\n",
       "time            2\n",
       "location        2\n",
       "operator        2\n",
       "flight_no       2\n",
       "route           2\n",
       "ac_type         2\n",
       "registration    2\n",
       "cn_ln           2\n",
       "aboard          1\n",
       "fatalities      1\n",
       "ground          2\n",
       "summary         2\n",
       "dtype: int64"
      ]
     },
     "execution_count": 5,
     "metadata": {},
     "output_type": "execute_result"
    }
   ],
   "source": [
    "#check for where all there are missing values\n",
    "df.isnull().nunique()"
   ]
  },
  {
   "cell_type": "markdown",
   "metadata": {},
   "source": [
    "We will extract the non-missing values and see which columns have the most missing values."
   ]
  },
  {
   "cell_type": "code",
   "execution_count": 6,
   "metadata": {},
   "outputs": [
    {
     "data": {
      "text/plain": [
       "[1347, 3675, 4289, 4576, 5431, 5552, 5731, 5759, 5762, 5777, 5783, 5783, 5783]"
      ]
     },
     "execution_count": 6,
     "metadata": {},
     "output_type": "execute_result"
    }
   ],
   "source": [
    "#plot to see which columns have most missing values\n",
    "n = np.arange(13)\n",
    "# x stores the data returned by isnull().value_counts() on each column\n",
    "x = [[df.iloc[:,i].isnull().value_counts()]for i in range(13)]\n",
    "\n",
    "#y stores only the \"false\" of the isnull().value_counts()\n",
    "y = [x[i][0][0] for i in range(len(x))]\n",
    "y.sort()\n",
    "\n",
    "y"
   ]
  },
  {
   "cell_type": "code",
   "execution_count": 7,
   "metadata": {},
   "outputs": [
    {
     "data": {
      "image/png": "[encoded data removed]",
      "text/plain": [
       "<Figure size 432x288 with 1 Axes>"
      ]
     },
     "metadata": {
      "needs_background": "light"
     },
     "output_type": "display_data"
    }
   ],
   "source": [
    "plt.bar(n, y, 0.45)\n",
    "plt.title(\"Count of non-missing values in our dataset\")\n",
    "plt.xticks(n, df.columns, rotation =90)\n",
    "plt.xlabel(\"columns\")\n",
    "plt.ylabel(\"number of non-missing values\")\n",
    "plt.show()"
   ]
  },
  {
   "cell_type": "markdown",
   "metadata": {},
   "source": [
    "If we check the \"aboard\" columns, it still has \"?\" values, we shall replace the \"?\" using regex"
   ]
  },
  {
   "cell_type": "code",
   "execution_count": 8,
   "metadata": {},
   "outputs": [
    {
     "data": {
      "text/plain": [
       "False    5743\n",
       "True       40\n",
       "Name: aboard_numbers, dtype: int64"
      ]
     },
     "execution_count": 8,
     "metadata": {},
     "output_type": "execute_result"
    }
   ],
   "source": [
    "df[\"aboard_numbers\"] = df[\"aboard\"].str[0:4].str.strip()\n",
    "df[\"aboard_numbers\"].str.replace(\"^\\?\", \"?\")\n",
    "df[\"aboard_numbers\"].replace(\"?\", np.nan, inplace = True)\n",
    "df[\"aboard_numbers\"].isnull().value_counts()\n"
   ]
  },
  {
   "cell_type": "markdown",
   "metadata": {},
   "source": [
    "Now we will replace those remaining '?' with a NaN"
   ]
  },
  {
   "cell_type": "code",
   "execution_count": 9,
   "metadata": {},
   "outputs": [
    {
     "data": {
      "text/plain": [
       "False    5743\n",
       "True       40\n",
       "Name: aboard_numbers, dtype: int64"
      ]
     },
     "execution_count": 9,
     "metadata": {},
     "output_type": "execute_result"
    }
   ],
   "source": [
    "df[\"aboard_numbers\"].replace(\"?\", np.nan, inplace = True)\n",
    "df[\"aboard_numbers\"] = pd.to_numeric(df[\"aboard_numbers\"] )\n",
    "df[\"aboard_numbers\"].isnull().value_counts()"
   ]
  },
  {
   "cell_type": "code",
   "execution_count": 10,
   "metadata": {},
   "outputs": [
    {
     "data": {
      "text/plain": [
       "0     1   (passengers:1  crew:0)\n",
       "1     1   (passengers:0  crew:0)\n",
       "2     5   (passengers:0  crew:5)\n",
       "3     1   (passengers:0  crew:1)\n",
       "4    14   (passengers:?  crew:?)\n",
       "Name: fatalities, dtype: object"
      ]
     },
     "execution_count": 10,
     "metadata": {},
     "output_type": "execute_result"
    }
   ],
   "source": [
    "df[\"fatalities\"].head(5)"
   ]
  },
  {
   "cell_type": "markdown",
   "metadata": {},
   "source": [
    "We have to do the same thing for fatalities"
   ]
  },
  {
   "cell_type": "code",
   "execution_count": 11,
   "metadata": {},
   "outputs": [],
   "source": [
    "# pd.Series(df.fatalities == '?').value_counts()#no '?'\n",
    "df[\"fatalities\"] = df[\"fatalities\"].str[0:4].str.strip()\n",
    "df[\"fatalities\"].str.replace(\"^\\?\", \"?\")\n",
    "df[\"fatalities\"].replace(\"?\", np.nan, inplace = True)\n",
    "df[\"fatalities\"] = pd.to_numeric(df[\"fatalities\"] )\n",
    "\n"
   ]
  },
  {
   "cell_type": "code",
   "execution_count": 12,
   "metadata": {},
   "outputs": [
    {
     "data": {
      "text/plain": [
       "False    5772\n",
       "True       11\n",
       "Name: fatalities, dtype: int64"
      ]
     },
     "execution_count": 12,
     "metadata": {},
     "output_type": "execute_result"
    }
   ],
   "source": [
    "df[\"fatalities\"].isnull().value_counts()"
   ]
  },
  {
   "cell_type": "markdown",
   "metadata": {},
   "source": [
    "we can drop the NaN values as they are very few in number"
   ]
  },
  {
   "cell_type": "code",
   "execution_count": 13,
   "metadata": {},
   "outputs": [],
   "source": [
    "df_operator = df[[\"aboard_numbers\", \"fatalities\", \"operator\"]]"
   ]
  },
  {
   "cell_type": "code",
   "execution_count": 16,
   "metadata": {},
   "outputs": [
    {
     "data": {
      "text/plain": [
       "<matplotlib.axes._subplots.AxesSubplot at 0x7f1628f83c18>"
      ]
     },
     "execution_count": 16,
     "metadata": {},
     "output_type": "execute_result"
    },
    {
     "data": {
      "image/png": "[encoded data removed]",
      "text/plain": [
       "<Figure size 1152x576 with 1 Axes>"
      ]
     },
     "metadata": {
      "needs_background": "light"
     },
     "output_type": "display_data"
    }
   ],
   "source": [
    "df_operator.groupby(\"operator\")[[\"fatalities\"]].sum().sort_values(by = \"fatalities\", ascending = False)[0:10].plot(kind='bar',figsize=(16,8),title='Suicide Based in Country')"
   ]
  },
  {
   "cell_type": "code",
   "execution_count": 87,
   "metadata": {},
   "outputs": [],
   "source": [
    "# df.location.value_counts()"
   ]
  },
  {
   "cell_type": "code",
   "execution_count": 96,
   "metadata": {},
   "outputs": [],
   "source": [
    "# df.groupby([\"operator\"])[\"fatalities\"].value_counts(ascending = False)\n"
   ]
  },
  {
   "cell_type": "code",
   "execution_count": 28,
   "metadata": {},
   "outputs": [
    {
     "data": {
      "text/plain": [
       "False    5777\n",
       "True        6\n",
       "Name: location, dtype: int64"
      ]
     },
     "execution_count": 28,
     "metadata": {},
     "output_type": "execute_result"
    }
   ],
   "source": [
    "#see how many are in flight_no and registration\n",
    "# df.location.isnull().value_counts()\n",
    "#df.registration.isnull().value_counts()"
   ]
  },
  {
   "cell_type": "code",
   "execution_count": 76,
   "metadata": {},
   "outputs": [
    {
     "data": {
      "text/plain": [
       "(5783, 13)"
      ]
     },
     "execution_count": 76,
     "metadata": {},
     "output_type": "execute_result"
    }
   ],
   "source": [
    "df.shape"
   ]
  },
  {
   "cell_type": "code",
   "execution_count": 29,
   "metadata": {},
   "outputs": [
    {
     "data": {
      "text/plain": [
       "(1202, 13)"
      ]
     },
     "execution_count": 29,
     "metadata": {},
     "output_type": "execute_result"
    }
   ],
   "source": [
    "#we can drop the NaN values\n",
    "df_nona = df.dropna()\n",
    "df_nona.shape"
   ]
  },
  {
   "cell_type": "code",
   "execution_count": 32,
   "metadata": {},
   "outputs": [
    {
     "data": {
      "text/plain": [
       "False    5783\n",
       "Name: aboard, dtype: int64"
      ]
     },
     "execution_count": 32,
     "metadata": {},
     "output_type": "execute_result"
    }
   ],
   "source": [
    "df.aboard.isnull().value_counts()"
   ]
  },
  {
   "cell_type": "code",
   "execution_count": 12,
   "metadata": {},
   "outputs": [],
   "source": [
    "df['aboard_count'] = df[\"aboard\"].str[0:4].str.strip()\n",
    "df[\"aboard_count\"] = pd.to_numeric(df[\"aboard_count\"] )\n",
    "# df[\"aboard_count\"].isnull().value_counts()"
   ]
  },
  {
   "cell_type": "code",
   "execution_count": 15,
   "metadata": {},
   "outputs": [],
   "source": [
    "# df[\"aboard_count\"]"
   ]
  },
  {
   "cell_type": "code",
   "execution_count": null,
   "metadata": {},
   "outputs": [],
   "source": [
    "df.groupby(['location', ])"
   ]
  },
  {
   "cell_type": "code",
   "execution_count": 10,
   "metadata": {},
   "outputs": [],
   "source": [
    "# l1=df.summary.dropna().map(lambda x: True if \"midair\" in x else False  )\n"
   ]
  },
  {
   "cell_type": "code",
   "execution_count": 44,
   "metadata": {},
   "outputs": [
    {
     "data": {
      "text/plain": [
       "False    5772\n",
       "True       11\n",
       "Name: fatalities, dtype: int64"
      ]
     },
     "execution_count": 44,
     "metadata": {},
     "output_type": "execute_result"
    }
   ],
   "source": [
    "# pd.Series(df.fatalities.str[0] == '?').value_counts()"
   ]
  },
  {
   "cell_type": "code",
   "execution_count": null,
   "metadata": {},
   "outputs": [],
   "source": []
  }
 ],
 "metadata": {
  "kernelspec": {
   "display_name": "Python 3",
   "language": "python",
   "name": "python3"
  },
  "language_info": {
   "codemirror_mode": {
    "name": "ipython",
    "version": 3
   },
   "file_extension": ".py",
   "mimetype": "text/x-python",
   "name": "python",
   "nbconvert_exporter": "python",
   "pygments_lexer": "ipython3",
   "version": "3.6.5"
  }
 },
 "nbformat": 4,
 "nbformat_minor": 2
}
